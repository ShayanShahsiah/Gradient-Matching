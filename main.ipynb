{
 "cells": [
  {
   "cell_type": "code",
   "execution_count": 1,
   "id": "c901119b-0c1f-47da-ae7b-bd8485559369",
   "metadata": {},
   "outputs": [],
   "source": [
    "import numpy as np\n",
    "import matplotlib.pyplot as plt\n",
    "import cv2 as cv\n",
    "import math\n",
    "from timeit import default_timer as timer\n",
    "from numba import njit, jit, vectorize, prange\n",
    "from matplotlib.animation import FuncAnimation\n",
    "from IPython import display\n",
    "import sys\n",
    "%matplotlib inline"
   ]
  },
  {
   "cell_type": "markdown",
   "id": "39968115",
   "metadata": {},
   "source": [
    "Gradient & loss"
   ]
  },
  {
   "cell_type": "code",
   "execution_count": 2,
   "id": "9c87a6a2-7aab-4a8f-99a8-af833390f4a0",
   "metadata": {},
   "outputs": [],
   "source": [
    "@njit\n",
    "def inrange(idx, shape):\n",
    "    i, j = idx\n",
    "    return 0 <= i < shape[0] and 0 <= j < shape[1]\n",
    "\n",
    "@njit\n",
    "def color_diff(f1, f0, fore_pix, back_pix):\n",
    "    if inrange(fore_pix, f1.shape) and inrange(back_pix, f0.shape):\n",
    "        c1 = f1[fore_pix]\n",
    "        c2 = f0[back_pix]\n",
    "        return (abs(c1[0]-c2[0]) + abs(c1[1]-c2[1]) + abs(c1[2]-c2[2]))/3\n",
    "    else:\n",
    "        return np.nan\n",
    "\n",
    "@njit\n",
    "def pixel_loss(f1, f0, pix0, sc0, sc1, tr):\n",
    "    tl = (-tr[0] + pix0[0])/sc0, (-tr[1] + pix0[1])/sc1\n",
    "    br = (-tr[0] + (pix0[0]+1))/sc0, (-tr[1] + (pix0[1]+1))/sc1\n",
    "    \n",
    "    tl_i = math.floor(tl[0]), math.floor(tl[1])\n",
    "    br_i = math.floor(br[0]), math.floor(br[1])\n",
    "    \n",
    "    tl_f = min(tl_i[0]+1, br[0])-tl[0], min(tl_i[1]+1, br[1])-tl[1]\n",
    "    br_f = br[0]-max(br_i[0], tl[0]), br[1]-max(br_i[1], tl[1])\n",
    "\n",
    "    s = 0.0\n",
    "    done_corners = set()\n",
    "    \n",
    "    # top-left:\n",
    "    back_pix = (tl_i[0], tl_i[1])\n",
    "    if back_pix not in done_corners:\n",
    "        fore_weight = tl_f[0]*tl_f[1]\n",
    "        incr = fore_weight * color_diff(f1, f0, back_pix, pix0)\n",
    "        s += incr\n",
    "        done_corners.add(back_pix)\n",
    "\n",
    "    # top:\n",
    "    for j in range(tl_i[1]+1, br_i[1]):\n",
    "        back_pix = (tl_i[0], j)\n",
    "        if back_pix not in done_corners:\n",
    "            fore_weight = tl_f[0]\n",
    "            incr = fore_weight * color_diff(f1, f0, back_pix, pix0)\n",
    "            s += incr\n",
    "            done_corners.add(back_pix)\n",
    "\n",
    "    # top-right:\n",
    "    back_pix = (tl_i[0], br_i[1])\n",
    "    if back_pix not in done_corners:\n",
    "        fore_weight = tl_f[0]*br_f[1]\n",
    "        incr = fore_weight * color_diff(f1, f0, back_pix, pix0)\n",
    "        s += incr\n",
    "        done_corners.add(back_pix)\n",
    "\n",
    "    # left:\n",
    "    for i in range(tl_i[0]+1, br_i[0]):\n",
    "        back_pix = (i, tl_i[1])\n",
    "        if back_pix not in done_corners:\n",
    "            fore_weight = tl_f[1]\n",
    "            incr = fore_weight * color_diff(f1, f0, back_pix, pix0)\n",
    "            s += incr\n",
    "            done_corners.add(back_pix)\n",
    "\n",
    "    # center:\n",
    "    for i in range(tl_i[0]+1, br_i[0]):\n",
    "        for j in range(tl_i[1]+1, br_i[1]):\n",
    "            back_pix = i, j\n",
    "            s += color_diff(f1, f0, back_pix, pix0)\n",
    "\n",
    "\n",
    "    # right:\n",
    "    for i in range(tl_i[0]+1, br_i[0]):\n",
    "        back_pix = (i, br_i[1])\n",
    "        if back_pix not in done_corners:\n",
    "            fore_weight = (br_f[1])\n",
    "            incr = fore_weight * color_diff(f1, f0, back_pix, pix0)\n",
    "            s += incr\n",
    "            done_corners.add(back_pix)\n",
    "\n",
    "    # bottom-left:\n",
    "    back_pix = (br_i[0], tl_i[1])\n",
    "    if back_pix not in done_corners:\n",
    "        fore_weight = br_f[0]*tl_f[1]\n",
    "        incr = fore_weight * color_diff(f1, f0, back_pix, pix0)\n",
    "        s += incr\n",
    "        done_corners.add(back_pix)\n",
    "\n",
    "    #bottom:\n",
    "    for j in range(tl_i[1]+1, br_i[1]):\n",
    "        back_pix = (br_i[0], j)\n",
    "        if back_pix not in done_corners:\n",
    "            fore_weight = (br_f[0])\n",
    "            incr = fore_weight * color_diff(f1, f0, back_pix, pix0)\n",
    "            s += incr\n",
    "            done_corners.add(back_pix)\n",
    "\n",
    "    # bottom-right:\n",
    "    back_pix = (br_i[0], br_i[1])\n",
    "    if back_pix not in done_corners:\n",
    "        fore_weight = br_f[0]*br_f[1]\n",
    "        incr = fore_weight * color_diff(f1, f0, back_pix, pix0)\n",
    "        s += incr\n",
    "        done_corners.add(back_pix)\n",
    "    \n",
    "    s = s * sc0*sc1 * (sc0/sc1 if sc0/sc1 > 1. else sc1/sc0)\n",
    "    # assert s <= 1.\n",
    "    return s\n",
    "\n",
    "@njit\n",
    "def losses(f1, x, f0=None, inds=None):\n",
    "    sc0 = (x[2] - x[0] + f1.shape[0])/f1.shape[0]\n",
    "    sc1 = (x[3] - x[1] + f1.shape[1])/f1.shape[1]\n",
    "    tr = x[0], x[1]\n",
    "    \n",
    "    if f0 is None:\n",
    "        f0 = np.zeros_like(f1)\n",
    "        \n",
    "    if inds is None:\n",
    "        inds = np.zeros((f0.shape[0]*f0.shape[1], 2), dtype=np.int64)\n",
    "        for i in range(len(inds)):\n",
    "            inds[i] = i//f0.shape[1], i%f0.shape[1]\n",
    "\n",
    "    return np.array([pixel_loss(f1, f0, (i, j), sc0, sc1, tr) for i, j in inds])\n",
    "\n",
    "@njit\n",
    "def gradient(f1, x, f0, dx = 1e-4, nbatches=6, do_filter=True): #1e-4\n",
    "    inds = np.zeros((f1.shape[0]*f1.shape[1], 2), dtype=np.int64)\n",
    "    for i in range(len(inds)):\n",
    "        inds[i] = i//f1.shape[1], i%f1.shape[1]\n",
    "    \n",
    "    if do_filter:\n",
    "        inds = inds[np.random.choice(np.arange(len(inds)), size=len(inds)//nbatches, replace=False)]\n",
    "\n",
    "    y0 = losses(f1, x, f0, inds)\n",
    "    \n",
    "    nfeats = len(x)\n",
    "    mat = x.repeat(nfeats).reshape((-1, nfeats)).T + np.identity(nfeats)*dx\n",
    "    \n",
    "    dy = np.zeros(len(x))\n",
    "    for i in range(len(mat)):\n",
    "        dy[i] = np.nanmean((losses(f1, mat[i], f0, inds) - y0)/dx)\n",
    "\n",
    "    return dy, np.nanmean(y0)"
   ]
  },
  {
   "cell_type": "markdown",
   "id": "95a4cb20",
   "metadata": {},
   "source": [
    "Fast transform for visualization (not used for gradient)"
   ]
  },
  {
   "cell_type": "code",
   "execution_count": 3,
   "id": "5625776a-9a88-4b43-8136-2074288f4d5d",
   "metadata": {},
   "outputs": [],
   "source": [
    "def transform(img, x, bv=1.):\n",
    "    sc0 = (x[2] - x[0] + img.shape[0])/img.shape[0]\n",
    "    sc1 = (x[3] - x[1] + img.shape[1])/img.shape[1]\n",
    "    \n",
    "    rows, cols = img.shape[0], img.shape[1]\n",
    "    map_x = np.array([\n",
    "        [i for i in np.linspace(-x[1]/sc1, -x[1]/sc1 + (cols-1)/sc1, cols)]\n",
    "        ], dtype=np.float32).repeat(img.shape[0], axis=0)\n",
    "    map_y = np.array([\n",
    "        [i for i in np.linspace(-x[0]/sc0, -x[0]/sc0 + (rows-1)/sc0, rows)]\n",
    "        ], dtype=np.float32).repeat(img.shape[1], axis=0).T\n",
    "        \n",
    "    return cv.remap(img, map_x, map_y, interpolation=cv.INTER_AREA, borderValue=(bv, bv, bv))"
   ]
  },
  {
   "cell_type": "markdown",
   "id": "358766af",
   "metadata": {},
   "source": [
    "Function to match `f1` onto `f0`:"
   ]
  },
  {
   "cell_type": "code",
   "execution_count": 4,
   "id": "c6f70f07-883e-48ec-8fe8-c8aec229cc51",
   "metadata": {},
   "outputs": [],
   "source": [
    "def fit(f1, f0, lr0=8e-5 * 915840, nbatches=40, m=0.97): #5e-6, 0.975\n",
    "    dy = f0.shape[0]-f1.shape[0]\n",
    "    dx = f0.shape[1]-f1.shape[1]\n",
    "    f1_padded = np.pad(f1, pad_width=[(0, dy), (0, dx), (0, 0)], constant_values=0.)\n",
    "\n",
    "    x = np.array([0., 0., 0.01, 0.01])\n",
    "    # x = np.array([39.6, 97.6, -124.1, -146.3])\n",
    "    𝛅x = 0.1*np.array([-1., -1., 1., 1.])\n",
    "    loss = 1.\n",
    "    hist = np.zeros((30, len(x)))\n",
    "    hist_idx = 0\n",
    "    \n",
    "    for i in range(10_000):\n",
    "        # lr = lr0/(1+i/1500)\n",
    "        lr = lr0\n",
    "        \n",
    "        hist[hist_idx] = x.dot(x)**.5\n",
    "        hist_idx = (hist_idx+1)%len(hist)\n",
    "        ptp = np.ptp(hist)\n",
    "\n",
    "        is_done = i > len(hist) and ptp < 1. and loss < 0.06\n",
    "\n",
    "        if i%5 == 0 or is_done:\n",
    "            yield f\"iter. {i}: x=({', '.join(f'{xi:.1f}' for xi in x)}), {loss=:.4f}, {ptp=:.1f}\", np.sqrt(transform(f1_padded, x) *  f0)\n",
    "            \n",
    "        if is_done:\n",
    "            break\n",
    "            \n",
    "        grad, loss = gradient(f1, x, f0, nbatches=nbatches)\n",
    "\n",
    "        𝛅x = lr * grad + m * 𝛅x\n",
    "        x -= 𝛅x\n",
    "\n",
    "    return x, loss"
   ]
  },
  {
   "cell_type": "markdown",
   "id": "e5dbc9ce",
   "metadata": {},
   "source": [
    "Load images:"
   ]
  },
  {
   "cell_type": "code",
   "execution_count": 5,
   "id": "98b2e9b6",
   "metadata": {},
   "outputs": [],
   "source": [
    "fl0, fl1 = cv.imread('00.png')[:,:,::-1]/255, cv.imread('01.png')[:,:,::-1]/255"
   ]
  },
  {
   "cell_type": "markdown",
   "id": "9379bead",
   "metadata": {},
   "source": [
    "Match with visualization:"
   ]
  },
  {
   "cell_type": "code",
   "execution_count": 9,
   "id": "b4f4da92-e72b-4a32-ac9f-692bb40bce15",
   "metadata": {},
   "outputs": [
    {
     "data": {
      "application/vnd.jupyter.widget-view+json": {
       "model_id": "fb2108d7a6994f858161374383e256c6",
       "version_major": 2,
       "version_minor": 0
      },
      "image/png": "[encoded data removed]",
      "text/html": [
       "\n",
       "            <div style=\"display: inline-block;\">\n",
       "                <div class=\"jupyter-widgets widget-label\" style=\"text-align: center;\">\n",
       "                    Figure\n",
       "                </div>\n",
       "                <img src='data:image/png;base64,iVBORw0KGgoAAAANSUhEUgAAAnYAAAGjCAYAAAChT1j4AAAAOXRFWHRTb2Z0d2FyZQBNYXRwbG90bGliIHZlcnNpb24zLjcuMSwgaHR0cHM6Ly9tYXRwbG90bGliLm9yZy/bCgiHAAAACXBIWXMAAA9hAAAPYQGoP6dpAAApZklEQVR4nO3cfXBU133/8Y9kSWvJYlcIIa1UJBkbApYRxAEsb53YmUiDkDWuH5iOTahDbAoDFi5PpbZSG8ee/ixKOk3t1JHbugU6NaYhY5xAAVsjQJQinmRUxMMoQKBSDCslMNoVYBY9nN8fHu5kjXAskLTao/dr5jujvefs3u85wZvP3N27McYYIwAAAES92Eg3AAAAgL5BsAMAALAEwQ4AAMASBDsAAABLEOwAAAAsQbADAACwBMEOAADAEgQ7AAAASxDsAAAALEGwAwAAsATBDgAAwBIEOwAAAEsQ7AAAACxBsAMAALAEwQ4AAMASBDsAAABLEOwAAAAsQbADAACwBMEOAADAEgQ7AAAASxDsAAAALEGwAwAAsATBDgAAwBIEOwAAAEsQ7AAAACxBsAMAALAEwQ4AAMASBDsAAABLEOwAAAAsQbADAACwBMEOAADAEgQ7AAAASxDsAAAALEGwAwAAsATBDgAAwBIEOwAAAEsQ7AAAACxBsAMAALAEwQ4AAMASBDsAAABLEOwAAAAsQbADAACwBMEOAADAEgQ7AAAASxDsAAAALDGkg93bb7+tO++8U7fffrsKCgq0f//+SLcEAABw04ZssPvP//xPLV26VK+++qo++eQTTZo0ScXFxWptbY10awAAADclxhhjIt1EJBQUFGjq1Kn6x3/8R0lSd3e3srOz9cILL+ill176g8/v7u7W2bNnNWzYMMXExPR3uwAA4Cswxqi9vV1ZWVmKjR1616/iIt1AJFy9elV1dXUqLy93jsXGxqqoqEi1tbU9PicUCikUCjmPP/30U+Xl5fV7rwAAoPeam5s1atSoSLcx4IZelJX0u9/9Tl1dXcrIyAg7npGRIb/f3+NzKioq5PF4nCLUAQAweA0bNizSLUTEkAx2N6O8vFyBQMCp5ubmSLcEAABuYKh+TWpIfhSblpam2267TS0tLWHHW1pa5PV6e3yOy+WSy+UaiPYAAABuypC8YpeQkKDJkyerurraOdbd3a3q6mr5fL4IdgYAAHDzhuQVO0launSpZs+erSlTpuj+++/XP/zDP+jSpUt69tlnI90aAADATRmywe6pp57Sb3/7W61YsUJ+v19f//rXtW3btutuqAAAAIgWQ/Z37G5VMBiUx+OJdBsAAKAHgUBAbrc70m0MuCH5HTsAAAAbEewAAAAsQbADAACwBMEOAADAEgQ7AAAASxDsAAAALEGwAwAAsATBDgAAwBIEOwAAAEsQ7AAAACxBsAMAALAEwQ4AAMASBDsAAABLEOwAAAAsQbADAACwBMEOAADAEgQ7AAAASxDsAAAALEGwAwAAsATBDgAAwBIEOwAAAEsQ7AAAACxBsAMAALAEwQ4AAMASBDsAAABLEOwAAAAsQbADAACwhJXB7oc//KFiYmLCavz48c74lStXVFZWphEjRig5OVkzZsxQS0tLBDsGAAC4dVYGO0m69957de7cOad2797tjC1ZskSbNm3Shg0bVFNTo7Nnz+rJJ5+MYLcAAAC3Li7SDfSXuLg4eb3e644HAgH967/+q9atW6fvfOc7kqTVq1frnnvu0d69e/XAAw8MdKsAAAB9wtordidOnFBWVpbuuusuzZo1S01NTZKkuro6dXR0qKioyJk7fvx45eTkqLa29oavFwqFFAwGwwoAAGAwsTLYFRQUaM2aNdq2bZsqKyt1+vRpfetb31J7e7v8fr8SEhKUkpIS9pyMjAz5/f4bvmZFRYU8Ho9T2dnZ/bwKAACA3rHyo9iSkhLn74kTJ6qgoEC5ubn62c9+psTExJt6zfLyci1dutR5HAwGCXcAAGBQsfKK3RelpKToa1/7mk6ePCmv16urV6+qra0tbE5LS0uP38m7xuVyye12hxUAAMBgMiSC3cWLF3Xq1CllZmZq8uTJio+PV3V1tTPe2NiopqYm+Xy+CHYJAABwa6z8KPYv//Iv9eijjyo3N1dnz57Vq6++qttuu00zZ86Ux+PRnDlztHTpUqWmpsrtduuFF16Qz+fjjlgAABDVrAx2v/nNbzRz5kydP39eI0eO1De/+U3t3btXI0eOlCT9+Mc/VmxsrGbMmKFQKKTi4mL99Kc/jXDXAAAAtybGGGMi3UQ0CgaD8ng8kW4DAAD0IBAIDMnvww+J79gBAAAMBQQ7AAAASxDsAAAALEGwAwAAsATBDgAAwBIEOwAAAEsQ7AAAACxBsAMAALAEwQ4AAMASBDsAAABLEOwAAAAsQbADAACwBMEOAADAEgQ7AAAASxDsAAAALEGwAwAAsATBDgAAwBIEOwAAAEsQ7AAAACxBsAMAALAEwQ4AAMASBDsAAABLEOwAAAAsQbADAACwBMEOAADAEgQ7AAAASxDsAAAALBF1wW7Xrl169NFHlZWVpZiYGH344Ydh48YYrVixQpmZmUpMTFRRUZFOnDgRNufChQuaNWuW3G63UlJSNGfOHF28eHEAVwEAAND3oi7YXbp0SZMmTdLbb7/d4/iqVav01ltv6Z133tG+fft0xx13qLi4WFeuXHHmzJo1S0ePHlVVVZU2b96sXbt2ad68eQO1BAAAgP5hopgks3HjRudxd3e38Xq95kc/+pFzrK2tzbhcLvP+++8bY4w5duyYkWQOHDjgzNm6dauJiYkxn3766Vc+dyAQMJIoiqIoihqEFQgEbj1oRKGou2L3ZU6fPi2/36+ioiLnmMfjUUFBgWprayVJtbW1SklJ0ZQpU5w5RUVFio2N1b59+2742qFQSMFgMKwAAAAGE6uCnd/vlyRlZGSEHc/IyHDG/H6/0tPTw8bj4uKUmprqzOlJRUWFPB6PU9nZ2X3cPQAAwK2xKtj1p/LycgUCAaeam5sj3RIAAEAYq4Kd1+uVJLW0tIQdb2lpcca8Xq9aW1vDxjs7O3XhwgVnTk9cLpfcbndYAQAADCZWBbvRo0fL6/WqurraORYMBrVv3z75fD5Jks/nU1tbm+rq6pw527dvV3d3twoKCga8ZwAAgL4SF+kGeuvixYs6efKk8/j06dOqr69XamqqcnJytHjxYv3N3/yNxo4dq9GjR+uVV15RVlaWHn/8cUnSPffco+nTp2vu3Ll655131NHRoYULF+rpp59WVlZWhFYFAADQByJ9W25v7dixo8fbmmfPnm2M+fwnT1555RWTkZFhXC6XKSwsNI2NjWGvcf78eTNz5kyTnJxs3G63efbZZ017e3uv+uDnTiiKoihq8NZQ/bmTGGOMEXotGAzK4/FEug0AANCDQCAwJL8Pb9V37AAAAIYygh0AAIAlCHYAAACWINgBAABYgmAHAABgCYIdAACAJQh2AAAAliDYAQAAWIJgBwAAYAmCHQAAgCUIdgAAAJYg2AEAAFiCYAcAAGAJgh0AAIAlCHYAAACWINgBAABYgmAHAABgCYIdAACAJQh2AAAAliDYAQAAWIJgBwAAYAmCHQAAgCUIdgAAAJYg2AEAAFiCYAcAAGAJgh0AAIAlCHYAAACWiLpgt2vXLj366KPKyspSTEyMPvzww7Dx73//+4qJiQmr6dOnh825cOGCZs2aJbfbrZSUFM2ZM0cXL14cwFUAAAD0vagLdpcuXdKkSZP09ttv33DO9OnTde7cOafef//9sPFZs2bp6NGjqqqq0ubNm7Vr1y7Nmzevv1sHAADoV3GRbqC3SkpKVFJS8qVzXC6XvF5vj2PHjx/Xtm3bdODAAU2ZMkWS9JOf/ESPPPKI/u7v/k5ZWVk9Pi8UCikUCjmPg8HgTa4AAACgf0TdFbuvYufOnUpPT9e4ceO0YMECnT9/3hmrra1VSkqKE+okqaioSLGxsdq3b98NX7OiokIej8ep7Ozsfl0DAABAb1kX7KZPn65///d/V3V1tf72b/9WNTU1KikpUVdXlyTJ7/crPT097DlxcXFKTU2V3++/4euWl5crEAg41dzc3K/rAAAA6K2o+yj2D3n66aedv/Pz8zVx4kTdfffd2rlzpwoLC2/6dV0ul1wuV1+0CAAA0C+su2L3RXfddZfS0tJ08uRJSZLX61Vra2vYnM7OTl24cOGG38sDAACIBtYHu9/85jc6f/68MjMzJUk+n09tbW2qq6tz5mzfvl3d3d0qKCiIVJsAAAC3LOo+ir148aJz9U2STp8+rfr6eqWmpio1NVWvvfaaZsyYIa/Xq1OnTumv/uqvNGbMGBUXF0uS7rnnHk2fPl1z587VO++8o46ODi1cuFBPP/30De+IBQAAiAomyuzYscNIuq5mz55tLl++bKZNm2ZGjhxp4uPjTW5urpk7d67x+/1hr3H+/Hkzc+ZMk5ycbNxut3n22WdNe3t7r/oIBAI99kFRFEVRVOQrEAj0ZfyIGjHGGCP0WjAYlMfjiXQbAACgB4FAQG63O9JtDDjrv2MHAAAwVBDsAAAALEGwAwAAsATBDgAAwBIEOwAAAEsQ7AAAACxBsAMAALAEwQ4AAMASBDsAAABLEOwAAAAsQbADAACwBMEOAADAEgQ7AAAASxDsAAAALEGwAwAAsATBDgAAwBIEOwAAAEsQ7AAAACxBsAMAALAEwQ4AAMASBDsAAABLEOwAAAAsQbADAACwBMEOAADAEgQ7AAAASxDsAAAALEGwAwAAsETUBbuKigpNnTpVw4YNU3p6uh5//HE1NjaGzbly5YrKyso0YsQIJScna8aMGWppaQmb09TUpNLSUiUlJSk9PV3Lly9XZ2fnQC4FAACgT0VdsKupqVFZWZn27t2rqqoqdXR0aNq0abp06ZIzZ8mSJdq0aZM2bNigmpoanT17Vk8++aQz3tXVpdLSUl29elV79uzR2rVrtWbNGq1YsSISSwIAAOgbJsq1trYaSaampsYYY0xbW5uJj483GzZscOYcP37cSDK1tbXGGGO2bNliYmNjjd/vd+ZUVlYat9ttQqFQj+e5cuWKCQQCTjU3NxtJFEVRFEUNwgoEAv2YPgavqLti90WBQECSlJqaKkmqq6tTR0eHioqKnDnjx49XTk6OamtrJUm1tbXKz89XRkaGM6e4uFjBYFBHjx7t8TwVFRXyeDxOZWdn99eSAAAAbkpUB7vu7m4tXrxYDz74oCZMmCBJ8vv9SkhIUEpKStjcjIwM+f1+Z87vh7pr49fGelJeXq5AIOBUc3NzH68GAADg1sRFuoFbUVZWpiNHjmj37t39fi6XyyWXy9Xv5wEAALhZUXvFbuHChdq8ebN27NihUaNGOce9Xq+uXr2qtra2sPktLS3yer3OnC/eJXvt8bU5AAAA0Sbqgp0xRgsXLtTGjRu1fft2jR49Omx88uTJio+PV3V1tXOssbFRTU1N8vl8kiSfz6eGhga1trY6c6qqquR2u5WXlzcwCwEAAOhrkb57o7cWLFhgPB6P2blzpzl37pxTly9fdubMnz/f5OTkmO3bt5uDBw8an89nfD6fM97Z2WkmTJhgpk2bZurr6822bdvMyJEjTXl5+VfuIxAIRPyOH4qiKIqieq6helds1AW7G/0PuHr1amfOZ599Zp5//nkzfPhwk5SUZJ544glz7ty5sNc5c+aMKSkpMYmJiSYtLc0sW7bMdHR0fOU+CHYURVEUNXhrqAa7GGOMEXotGAzK4/FEug0AANCDQCAgt9sd6TYGXNR9xw4AAAA9I9gBAABYgmAHAABgCYIdAACAJQh2AAAAliDYAQAAWIJgBwAAYAmCHQAAgCUIdgAAAJYg2AEAAFiCYAcAAGAJgh0AAIAlCHYAAACWINgBAABYgmAHAABgCYIdAACAJQh2AAAAliDYAQAAWIJgBwAAYAmCHQAAgCUIdgAAAJYg2AEAAFiCYAcAAGAJgh0AAIAlCHYAAACWINgBAABYgmAHAABgiagLdhUVFZo6daqGDRum9PR0Pf7442psbAyb8+1vf1sxMTFhNX/+/LA5TU1NKi0tVVJSktLT07V8+XJ1dnYO5FIAAAD6VFykG+itmpoalZWVaerUqers7NQPfvADTZs2TceOHdMdd9zhzJs7d65ef/1153FSUpLzd1dXl0pLS+X1erVnzx6dO3dO3/ve9xQfH6833nhjQNcDAADQZ0yUa21tNZJMTU2Nc+zhhx82ixYtuuFztmzZYmJjY43f73eOVVZWGrfbbUKhUI/PuXLligkEAk41NzcbSRRFURRFDcIKBAJ9ljWiSdR9FPtFgUBAkpSamhp2/L333lNaWpomTJig8vJyXb582Rmrra1Vfn6+MjIynGPFxcUKBoM6evRoj+epqKiQx+NxKjs7ux9WAwAAcPOi7qPY39fd3a3FixfrwQcf1IQJE5zj3/3ud5Wbm6usrCwdPnxYL774ohobG/XBBx9Ikvx+f1iok+Q89vv9PZ6rvLxcS5cudR4Hg0HCHQAAGFSiOtiVlZXpyJEj2r17d9jxefPmOX/n5+crMzNThYWFOnXqlO6+++6bOpfL5ZLL5bqlfgEAAPpT1H4Uu3DhQm3evFk7duzQqFGjvnRuQUGBJOnkyZOSJK/Xq5aWlrA51x57vd5+6BYAAKD/RV2wM8Zo4cKF2rhxo7Zv367Ro0f/wefU19dLkjIzMyVJPp9PDQ0Nam1tdeZUVVXJ7XYrLy+vX/oGAADobzHGGBPpJnrj+eef17p16/SLX/xC48aNc457PB4lJibq1KlTWrdunR555BGNGDFChw8f1pIlSzRq1CjV1NRI+vznTr7+9a8rKytLq1atkt/v1zPPPKM///M//8o/dxIMBuXxePpljQAA4NYEAgG53e5ItzHwInxXbq/pBrc1r1692hhjTFNTk3nooYdMamqqcblcZsyYMWb58uXX3fZ85swZU1JSYhITE01aWppZtmyZ6ejo+Mp9BAKBiN/KTVEURVFUzzVUf+4k6q7YDRZcsQMAYPAaqlfsou47dgAAAOgZwQ4AAMASBDsAAABLEOwAAAAsQbADAACwBMEOAADAEgQ7AAAASxDsAAAALEGwAwAAsATBDgAAwBIEOwAAAEsQ7AAAACxBsAMAALAEwQ4AAMASBDsAAABLEOwAAAAsQbADAACwBMEOAADAEgQ7AAAASxDsAAAALEGwAwAAsATBDgAAwBIEOwAAAEsQ7AAAACxBsAMAALAEwQ4AAMASURfsKisrNXHiRLndbrndbvl8Pm3dutUZv3LlisrKyjRixAglJydrxowZamlpCXuNpqYmlZaWKikpSenp6Vq+fLk6OzsHeikAAAB9KuqC3ahRo7Ry5UrV1dXp4MGD+s53vqPHHntMR48elSQtWbJEmzZt0oYNG1RTU6OzZ8/qySefdJ7f1dWl0tJSXb16VXv27NHatWu1Zs0arVixIlJLAgAA6BvGAsOHDzfvvvuuaWtrM/Hx8WbDhg3O2PHjx40kU1tba4wxZsuWLSY2Ntb4/X5nTmVlpXG73SYUCn3lcwYCASOJoiiKoqhBWIFAoO+CRhSJuit2v6+rq0vr16/XpUuX5PP5VFdXp46ODhUVFTlzxo8fr5ycHNXW1kqSamtrlZ+fr4yMDGdOcXGxgsGgc9WvJ6FQSMFgMKwAAAAGk6gMdg0NDUpOTpbL5dL8+fO1ceNG5eXlye/3KyEhQSkpKWHzMzIy5Pf7JUl+vz8s1F0bvzZ2IxUVFfJ4PE5lZ2f37aIAAABuUVQGu3Hjxqm+vl779u3TggULNHv2bB07dqxfz1leXq5AIOBUc3Nzv54PAACgt+Ii3cDNSEhI0JgxYyRJkydP1oEDB/Tmm2/qqaee0tWrV9XW1hZ21a6lpUVer1eS5PV6tX///rDXu3bX7LU5PXG5XHK5XH28EgAAgL4TlVfsvqi7u1uhUEiTJ09WfHy8qqurnbHGxkY1NTXJ5/NJknw+nxoaGtTa2urMqaqqktvtVl5e3oD3DgAA0Fei7opdeXm5SkpKlJOTo/b2dq1bt047d+7URx99JI/Hozlz5mjp0qVKTU2V2+3WCy+8IJ/PpwceeECSNG3aNOXl5emZZ57RqlWr5Pf79fLLL6usrIwrcgAAILpF+rbc3nruuedMbm6uSUhIMCNHjjSFhYXm448/dsY/++wz8/zzz5vhw4ebpKQk88QTT5hz586FvcaZM2dMSUmJSUxMNGlpaWbZsmWmo6OjV33wcycURVEUNXhrqP7cSYwxxgi9FgwG5fF4It0GAADoQSAQkNvtjnQbA86K79gBAACAYAcAAGANgh0AAIAlCHYAAACWINgBAABYgmAHAABgCYIdAACAJQh2AAAAliDYAQAAWIJgBwAAYAmCHQAAgCUIdgAAAJYg2AEAAFiCYAcAAGAJgh0AAIAlCHYAAACWINgBAABYgmAHAABgCYIdAACAJQh2AAAAliDYAQAAWIJgBwAAYAmCHQAAgCUIdgAAAJYg2AEAAFiCYAcAAGAJgh0AAIAloi7YVVZWauLEiXK73XK73fL5fNq6dasz/u1vf1sxMTFhNX/+/LDXaGpqUmlpqZKSkpSenq7ly5ers7NzoJcCAADQp+Ii3UBvjRo1SitXrtTYsWNljNHatWv12GOP6dChQ7r33nslSXPnztXrr7/uPCcpKcn5u6urS6WlpfJ6vdqzZ4/OnTun733ve4qPj9cbb7wx4OsBAADoM8YCw4cPN++++64xxpiHH37YLFq06IZzt2zZYmJjY43f73eOVVZWGrfbbUKh0Fc+ZyAQMJIoiqIoihqEFQgEbjpXRLOo+yj293V1dWn9+vW6dOmSfD6fc/y9995TWlqaJkyYoPLycl2+fNkZq62tVX5+vjIyMpxjxcXFCgaDOnr06A3PFQqFFAwGwwoAAGAwibqPYiWpoaFBPp9PV65cUXJysjZu3Ki8vDxJ0ne/+13l5uYqKytLhw8f1osvvqjGxkZ98MEHkiS/3x8W6iQ5j/1+/w3PWVFRoddee62fVgQAAHDrojLYjRs3TvX19QoEAvr5z3+u2bNnq6amRnl5eZo3b54zLz8/X5mZmSosLNSpU6d099133/Q5y8vLtXTpUudxMBhUdnb2La0DAACgL0XlR7EJCQkaM2aMJk+erIqKCk2aNElvvvlmj3MLCgokSSdPnpQkeb1etbS0hM259tjr9d7wnC6Xy7kT91oBAAAMJlEZ7L6ou7tboVCox7H6+npJUmZmpiTJ5/OpoaFBra2tzpyqqiq53W7n41wAAIBoFHUfxZaXl6ukpEQ5OTlqb2/XunXrtHPnTn300Uc6deqU1q1bp0ceeUQjRozQ4cOHtWTJEj300EOaOHGiJGnatGnKy8vTM888o1WrVsnv9+vll19WWVmZXC5XhFcHAABwCyJ9W25vPffccyY3N9ckJCSYkSNHmsLCQvPxxx8bY4xpamoyDz30kElNTTUul8uMGTPGLF++/Lpbns+cOWNKSkpMYmKiSUtLM8uWLTMdHR296oOfO6EoiqKowVtD9edOYowxRui1YDAoj8cT6TYAAEAPAoHAkPw+vBXfsQMAAADBDgAAwBoEOwAAAEsQ7AAAACxBsAMAALAEwQ4AAMASBDsAAABLEOwAAAAsQbADAACwBMEOAADAEgQ7AAAASxDsAAAALEGwAwAAsATBDgAAwBIEOwAAAEsQ7AAAACxBsAMAALAEwQ4AAMASBDsAAABLEOwAAAAsQbADAACwBMEOAADAEgQ7AAAASxDsAAAALEGwAwAAsATBDgAAwBIEOwAAAEtEdbBbuXKlYmJitHjxYufYlStXVFZWphEjRig5OVkzZsxQS0tL2POamppUWlqqpKQkpaena/ny5ers7Bzg7gEAAPpW1Aa7AwcO6J/+6Z80ceLEsONLlizRpk2btGHDBtXU1Ojs2bN68sknnfGuri6Vlpbq6tWr2rNnj9auXas1a9ZoxYoVA70EAACAvmWiUHt7uxk7dqypqqoyDz/8sFm0aJExxpi2tjYTHx9vNmzY4Mw9fvy4kWRqa2uNMcZs2bLFxMbGGr/f78yprKw0brfbhEKhr9xDIBAwkiiKoiiKGoQVCAT6JnREmai8YldWVqbS0lIVFRWFHa+rq1NHR0fY8fHjxysnJ0e1tbWSpNraWuXn5ysjI8OZU1xcrGAwqKNHj97wnKFQSMFgMKwAAAAGk7hIN9Bb69ev1yeffKIDBw5cN+b3+5WQkKCUlJSw4xkZGfL7/c6c3w9118avjd1IRUWFXnvttVvsHgAAoP9E1RW75uZmLVq0SO+9955uv/32AT13eXm5AoGAU83NzQN6fgAAgD8kqoJdXV2dWltb9Y1vfENxcXGKi4tTTU2N3nrrLcXFxSkjI0NXr15VW1tb2PNaWlrk9XolSV6v97q7ZK89vjanJy6XS263O6wAAAAGk6gKdoWFhWpoaFB9fb1TU6ZM0axZs5y/4+PjVV1d7TynsbFRTU1N8vl8kiSfz6eGhga1trY6c6qqquR2u5WXlzfgawIAAOgrUfUdu2HDhmnChAlhx+644w6NGDHCOT5nzhwtXbpUqampcrvdeuGFF+Tz+fTAAw9IkqZNm6a8vDw988wzWrVqlfx+v15++WWVlZXJ5XIN+JoAAAD6SlQFu6/ixz/+sWJjYzVjxgyFQiEVFxfrpz/9qTN+2223afPmzVqwYIF8Pp/uuOMOzZ49W6+//noEuwYAALh1McYYE+kmolEwGJTH44l0GwAAoAeBQGBIfh8+qr5jBwAAgBsj2AEAAFiCYAcAAGAJgh0AAIAlCHYAAACWINgBAABYgmAHAABgCYIdAACAJQh2AAAAliDYAQAAWIJgBwAAYAmCHQAAgCUIdjfJGBPpFgAAwA0M1f+fJtjdpPPnz0e6BQAAcAPt7e2RbiEi4iLdQLRKTU2VJDU1Ncnj8US4m8EvGAwqOztbzc3NcrvdkW4nKrBnvcN+9Q771XvsWe9Ear+MMWpvb1dWVtaAnXMwIdjdpNjYzy92ejwe/gPvBbfbzX71EnvWO+xX77Bfvcee9U4k9msoX3Dho1gAAABLEOwAAAAsQbC7SS6XS6+++qpcLlekW4kK7FfvsWe9w371DvvVe+xZ77BfkRFjhur9wAAAAJbhih0AAIAlCHYAAACWINgBAABYgmAHAABgCYIdAACAJQh2N+ntt9/WnXfeqdtvv10FBQXav39/pFuKiF27dunRRx9VVlaWYmJi9OGHH4aNG2O0YsUKZWZmKjExUUVFRTpx4kTYnAsXLmjWrFlyu91KSUnRnDlzdPHixQFcxcCpqKjQ1KlTNWzYMKWnp+vxxx9XY2Nj2JwrV66orKxMI0aMUHJysmbMmKGWlpawOU1NTSotLVVSUpLS09O1fPlydXZ2DuRSBkRlZaUmTpzo/HK9z+fT1q1bnXH26sutXLlSMTExWrx4sXOMPQv3wx/+UDExMWE1fvx4Z5z9ut6nn36qP/uzP9OIESOUmJio/Px8HTx40BnnfT/CDHpt/fr1JiEhwfzbv/2bOXr0qJk7d65JSUkxLS0tkW5twG3ZssX89V//tfnggw+MJLNx48aw8ZUrVxqPx2M+/PBD87//+7/mT/7kT8zo0aPNZ5995syZPn26mTRpktm7d6/57//+bzNmzBgzc+bMAV7JwCguLjarV682R44cMfX19eaRRx4xOTk55uLFi86c+fPnm+zsbFNdXW0OHjxoHnjgAfPHf/zHznhnZ6eZMGGCKSoqMocOHTJbtmwxaWlppry8PBJL6le//OUvzX/913+ZX/3qV6axsdH84Ac/MPHx8ebIkSPGGPbqy+zfv9/ceeedZuLEiWbRokXOcfYs3Kuvvmruvfdec+7cOad++9vfOuPsV7gLFy6Y3Nxc8/3vf9/s27fP/PrXvzYfffSROXnypDOH9/3IItjdhPvvv9+UlZU5j7u6ukxWVpapqKiIYFeR98Vg193dbbxer/nRj37kHGtrazMul8u8//77xhhjjh07ZiSZAwcOOHO2bt1qYmJizKeffjpgvUdKa2urkWRqamqMMZ/vT3x8vNmwYYMz5/jx40aSqa2tNcZ8HqZjY2ON3+935lRWVhq3221CodDALiAChg8fbt5991326ku0t7ebsWPHmqqqKvPwww87wY49u96rr75qJk2a1OMY+3W9F1980Xzzm9+84Tjv+5HHR7G9dPXqVdXV1amoqMg5Fhsbq6KiItXW1kaws8Hn9OnT8vv9YXvl8XhUUFDg7FVtba1SUlI0ZcoUZ05RUZFiY2O1b9++Ae95oAUCAUlSamqqJKmurk4dHR1hezZ+/Hjl5OSE7Vl+fr4yMjKcOcXFxQoGgzp69OgAdj+wurq6tH79el26dEk+n4+9+hJlZWUqLS0N2xuJf183cuLECWVlZemuu+7SrFmz1NTUJIn96skvf/lLTZkyRX/6p3+q9PR03XffffqXf/kXZ5z3/cgj2PXS7373O3V1dYX9RyxJGRkZ8vv9EepqcLq2H1+2V36/X+np6WHjcXFxSk1NtX4/u7u7tXjxYj344IOaMGGCpM/3IyEhQSkpKWFzv7hnPe3ptTHbNDQ0KDk5WS6XS/Pnz9fGjRuVl5fHXt3A+vXr9cknn6iiouK6MfbsegUFBVqzZo22bdumyspKnT59Wt/61rfU3t7OfvXg17/+tSorKzV27Fh99NFHWrBggf7iL/5Ca9eulcT7/mAQF+kGgKGqrKxMR44c0e7duyPdyqA2btw41dfXKxAI6Oc//7lmz56tmpqaSLc1KDU3N2vRokWqqqrS7bffHul2okJJSYnz98SJE1VQUKDc3Fz97Gc/U2JiYgQ7G5y6u7s1ZcoUvfHGG5Kk++67T0eOHNE777yj2bNnR7g7SFyx67W0tDTddttt190V1dLSIq/XG6GuBqdr+/Fle+X1etXa2ho23tnZqQsXLli9nwsXLtTmzZu1Y8cOjRo1yjnu9Xp19epVtbW1hc3/4p71tKfXxmyTkJCgMWPGaPLkyaqoqNCkSZP05ptvslc9qKurU2trq77xjW8oLi5OcXFxqqmp0VtvvaW4uDhlZGSwZ39ASkqKvva1r+nkyZP8G+tBZmam8vLywo7dc889zsfXvO9HHsGulxISEjR58mRVV1c7x7q7u1VdXS2fzxfBzgaf0aNHy+v1hu1VMBjUvn37nL3y+Xxqa2tTXV2dM2f79u3q7u5WQUHBgPfc34wxWrhwoTZu3Kjt27dr9OjRYeOTJ09WfHx82J41NjaqqakpbM8aGhrC3hirqqrkdruve8O1UXd3t0KhEHvVg8LCQjU0NKi+vt6pKVOmaNasWc7f7NmXu3jxok6dOqXMzEz+jfXgwQcfvO4nmn71q18pNzdXEu/7g0Kk796IRuvXrzcul8usWbPGHDt2zMybN8+kpKSE3RU1VLS3t5tDhw6ZQ4cOGUnm7//+782hQ4fM//3f/xljPr/tPSUlxfziF78whw8fNo899liPt73fd999Zt++fWb37t1m7Nix1t72vmDBAuPxeMzOnTvDfl7h8uXLzpz58+ebnJwcs337dnPw4EHj8/mMz+dzxq/9vMK0adNMfX292bZtmxk5cqSVP6/w0ksvmZqaGnP69Glz+PBh89JLL5mYmBjz8ccfG2PYq6/i9++KNYY9+6Jly5aZnTt3mtOnT5v/+Z//MUVFRSYtLc20trYaY9ivL9q/f7+Ji4sz/+///T9z4sQJ895775mkpCTzH//xH84c3vcji2B3k37yk5+YnJwck5CQYO6//36zd+/eSLcUETt27DCSrqvZs2cbYz6/9f2VV14xGRkZxuVymcLCQtPY2Bj2GufPnzczZ840ycnJxu12m2effda0t7dHYDX9r6e9kmRWr17tzPnss8/M888/b4YPH26SkpLME088Yc6dOxf2OmfOnDElJSUmMTHRpKWlmWXLlpmOjo4BXk3/e+6550xubq5JSEgwI0eONIWFhU6oM4a9+iq+GOzYs3BPPfWUyczMNAkJCeaP/uiPzFNPPRX2m2zs1/U2bdpkJkyYYFwulxk/frz553/+57Bx3vcjK8YYYyJzrRAAAAB9ie/YAQAAWIJgBwAAYAmCHQAAgCUIdgAAAJYg2AEAAFiCYAcAAGAJgh0AAIAlCHYAAACWINgBAABYgmAHAABgCYIdAACAJQh2AAAAliDYAQAAWIJgBwAAYAmCHQAAgCUIdgAAAJYg2AEAAFiCYAcAAGAJgh0AAIAlCHYAAACWINgBAABYgmAHAABgCYIdAACAJf4/iPIhxQVKdaMAAAAASUVORK5CYII=' width=630.0/>\n",
       "            </div>\n",
       "        "
      ],
      "text/plain": [
       "Canvas(footer_visible=False, header_visible=False, resizable=False, toolbar=Toolbar(toolitems=[('Home', 'Reset…"
      ]
     },
     "metadata": {},
     "output_type": "display_data"
    }
   ],
   "source": [
    "%matplotlib widget\n",
    "\n",
    "fig, ax = plt.subplots(figsize=(4.5*1.4, 3.0*1.4))\n",
    "fig.canvas.toolbar_visible = False\n",
    "fig.canvas.header_visible = False\n",
    "fig.canvas.footer_visible = False\n",
    "fig.canvas.resizable = False\n",
    "\n",
    "img = ax.imshow(np.zeros(fl0.shape[:3]), aspect='auto', cmap='gray', vmin=0., vmax=1.)\n",
    "\n",
    "def animate(data):\n",
    "    msg, frame = data\n",
    "    ax.set_title(msg)\n",
    "    img.set_data(frame)\n",
    "    return img\n",
    "\n",
    "def on_click(event):\n",
    "    global is_running\n",
    "    if is_running:\n",
    "        anim.event_source.stop()\n",
    "    else:\n",
    "        anim.event_source.start()\n",
    "        \n",
    "    is_running = not is_running\n",
    "\n",
    "anim = FuncAnimation(fig, animate, frames=lambda: (yield from fit((fl1), (fl0))), interval=200, repeat=False, cache_frame_data=False,  save_count=sys.maxsize)\n",
    "is_running=True\n",
    "fig.canvas.mpl_connect('button_press_event', on_click)\n",
    "\n",
    "plt.show()"
   ]
  },
  {
   "cell_type": "markdown",
   "id": "9a716b9e",
   "metadata": {},
   "source": [
    "Save visualization:"
   ]
  },
  {
   "cell_type": "code",
   "execution_count": 8,
   "id": "4e776702",
   "metadata": {},
   "outputs": [],
   "source": [
    "# anim.save('out.mp4', fps=20, bitrate=700)"
   ]
  },
  {
   "cell_type": "code",
   "execution_count": null,
   "id": "64406676-3723-4fd3-9830-eafdc0912988",
   "metadata": {},
   "outputs": [],
   "source": []
  }
 ],
 "metadata": {
  "interpreter": {
   "hash": "ab7cb8f9e458ca5b2bb196497fc112341a552d81bfaec9cf78844638ee97bf4d"
  },
  "kernelspec": {
   "display_name": "Python 3.9.9 64-bit ('tf_py9': conda)",
   "language": "python",
   "name": "python3"
  },
  "language_info": {
   "codemirror_mode": {
    "name": "ipython",
    "version": 3
   },
   "file_extension": ".py",
   "mimetype": "text/x-python",
   "name": "python",
   "nbconvert_exporter": "python",
   "pygments_lexer": "ipython3",
   "version": "3.11.4"
  }
 },
 "nbformat": 4,
 "nbformat_minor": 5
}
